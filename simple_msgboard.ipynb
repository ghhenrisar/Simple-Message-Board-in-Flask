{
 "cells": [
  {
   "cell_type": "markdown",
   "id": "2dc3ad03",
   "metadata": {},
   "source": [
    "# Simple Message Board using Flask"
   ]
  },
  {
   "cell_type": "markdown",
   "id": "6137bd7d",
   "metadata": {},
   "source": [
    "![Semantic description of image](https://raw.githubusercontent.com/ghhenrisar/simple_msgboard/master/images/Monitor014400336.jpg)"
   ]
  },
  {
   "cell_type": "markdown",
   "id": "f7fc007d",
   "metadata": {},
   "source": [
    "If you want to find a entry point to learn web programming for a message board, this project will do. Flask is a tool for web developing. A preview of the message board is available [here](http://pahenrisar.pythonanywhere.com/). And the source code located [here](https://github.com/ghhenrisar/simple_msgboard)."
   ]
  },
  {
   "cell_type": "markdown",
   "id": "2d82409e",
   "metadata": {},
   "source": [
    "## Preparation\n",
    "For beginner of Python, I would suggest PyCharm as your development environment. You can get started [here](https://www.jetbrains.com/help/pycharm/quick-start-guide.html).\n",
    "> PyCharm is a dedicated Python Integrated Development Environment (IDE) providing a wide range of essential tools for Python developers, tightly integrated to create a convenient environment for productive Python, web, and data science development.\n",
    "\n",
    "Virtual environment is useful when you are learning or writing codes becuase each virtual environment is stand-alone such that other environment is not affected. [PyCharm](https://www.jetbrains.com/help/pycharm/creating-virtual-environment.html) can also support this.\n",
    "> PyCharm makes it possible to use the virtualenv tool to create a project-specific isolated virtual environment. The main purpose of virtual environments is to manage settings and dependencies of a particular project regardless of other Python projects. virtualenv tool comes bundled with PyCharm, so the user doesn't need to install it.\n",
    "\n",
    "In this project, we are going to use [Flask](https://palletsprojects.com/p/flask/).\n",
    "> Flask is a lightweight WSGI web application framework. It is designed to make getting started quick and easy, with the ability to scale up to complex applications. It began as a simple wrapper around Werkzeug and Jinja and has become one of the most popular Python web application frameworks.\n",
    "\n",
    "To install flask, run the following command at Terminal (e.g. PyCharm Terminal):\n",
    "\n",
    "`pip install flask`\n",
    "\n",
    "The structure of the directory of this project is as follows:\n",
    "```\n",
    "./simple_msgboard/\n",
    "    |--database.db\n",
    "    |--flask_app.py\n",
    "    |--schema.sql\n",
    "    |--templates/\n",
    "        |--base.html\n",
    "        |--create_new_post.html\n",
    "        |--index.html\n",
    "```\n"
   ]
  },
  {
   "cell_type": "markdown",
   "id": "0df27080",
   "metadata": {},
   "source": [
    "## Main flask application: flask_app\n",
    "Create a new Python file `flask_app.py` and type the following code:\n",
    "\n",
    "```python\n",
    "from flask import Flask, render_template\n",
    "\n",
    "app = Flask(__name__)\n",
    "\n",
    "@app.route('/')\n",
    "def index():\n",
    "    return render_template('index.html')\n",
    "```\n",
    "`Flask(__name__)`\n",
    "> Flask is required to be imported so that Flask application can be initialized.\n",
    "\n",
    "```python\n",
    "@app.route('/')\n",
    "def index():\n",
    "    return render_template('index.html')\n",
    "```\n",
    "> index.html will be returned when the root('/') of website is accessed.\n",
    "\n"
   ]
  }
 ],
 "metadata": {
  "kernelspec": {
   "display_name": "Python 3",
   "language": "python",
   "name": "python3"
  },
  "language_info": {
   "codemirror_mode": {
    "name": "ipython",
    "version": 3
   },
   "file_extension": ".py",
   "mimetype": "text/x-python",
   "name": "python",
   "nbconvert_exporter": "python",
   "pygments_lexer": "ipython3",
   "version": "3.8.8"
  }
 },
 "nbformat": 4,
 "nbformat_minor": 5
}
