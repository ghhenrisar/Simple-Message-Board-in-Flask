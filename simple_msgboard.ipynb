{
 "cells": [
  {
   "cell_type": "markdown",
   "id": "2dc3ad03",
   "metadata": {},
   "source": [
    "# Simple Message Board using Flask"
   ]
  },
  {
   "cell_type": "markdown",
   "id": "6137bd7d",
   "metadata": {},
   "source": [
    "![Semantic description of image](https://raw.githubusercontent.com/ghhenrisar/simple_msgboard/master/images/Monitor014400336.jpg)"
   ]
  },
  {
   "cell_type": "markdown",
   "id": "f7fc007d",
   "metadata": {},
   "source": [
    "If you want to find a entry point to learn web programming for a message board, this project will do. Flask is a tool for web developing. A preview of the message board is available [here](http://pahenrisar.pythonanywhere.com/). And the source code located [here](https://github.com/ghhenrisar/simple_msgboard)."
   ]
  },
  {
   "cell_type": "markdown",
   "id": "2d82409e",
   "metadata": {},
   "source": [
    "## Preparation\n",
    "For beginner of Python, I would suggest PyCharm as your development environment. You can get started [here](https://www.jetbrains.com/help/pycharm/quick-start-guide.html).\n",
    "> PyCharm is a dedicated Python Integrated Development Environment (IDE) providing a wide range of essential tools for Python developers, tightly integrated to create a convenient environment for productive Python, web, and data science development.\n",
    "\n",
    "Virtual environment is useful when you are learning or writing codes becuase each virtual environment is stand-alone such that other environment is not affected. [PyCharm](https://www.jetbrains.com/help/pycharm/creating-virtual-environment.html) can also support this.\n",
    "> PyCharm makes it possible to use the virtualenv tool to create a project-specific isolated virtual environment. The main purpose of virtual environments is to manage settings and dependencies of a particular project regardless of other Python projects. virtualenv tool comes bundled with PyCharm, so the user doesn't need to install it.\n",
    "\n",
    "In this project, we are going to use [Flask](https://palletsprojects.com/p/flask/).\n",
    "> Flask is a lightweight WSGI web application framework. It is designed to make getting started quick and easy, with the ability to scale up to complex applications. It began as a simple wrapper around Werkzeug and Jinja and has become one of the most popular Python web application frameworks.\n",
    "\n",
    "### To install flask\n",
    "Run the following command at Terminal (e.g. PyCharm Terminal):\n",
    "\n",
    "`pip install flask`\n",
    "\n",
    "### The structure of the directory\n",
    "```\n",
    "./simple_msgboard/\n",
    "    |--database.db\n",
    "    |--flask_app.py\n",
    "    |--schema.sql\n",
    "    |--templates/\n",
    "        |--base.html\n",
    "        |--create_new_post.html\n",
    "        |--index.html\n",
    "```\n"
   ]
  },
  {
   "cell_type": "markdown",
   "id": "aaf67528",
   "metadata": {},
   "source": [
    "## Main flask application: flask_app\n",
    "Create a new Python file `flask_app.py` and type the following code:\n",
    "\n",
    "---\n",
    "\n",
    "```python\n",
    "from flask import Flask, render_template\n",
    "\n",
    "app = Flask(__name__)\n",
    "\n",
    "@app.route('/')\n",
    "def index():\n",
    "    return render_template('index.html')\n",
    "```\n",
    "\n",
    "---\n",
    "\n",
    "`Flask(__name__)`\n",
    "> Flask is required to be imported so that Flask application can be initialized.\n",
    "\n",
    "```python\n",
    "@app.route('/')\n",
    "def index():\n",
    "    return render_template('index.html')\n",
    "```\n",
    "\n",
    "> `/index.html` will be returned when the root('/') of website is accessed.\n",
    "\n"
   ]
  },
  {
   "cell_type": "markdown",
   "id": "f090a442",
   "metadata": {},
   "source": [
    "## Test run of flask app\n",
    "Create a HTML file `index.html` at the directory `./simple_msgboard/templates/`.\n",
    "Then run the following command on Terminal (e.g. PyCharm Terminal). Note: each OS has its own command, please find the details at this [link](https://flask.palletsprojects.com/en/1.1.x/cli/).\n",
    "```\n",
    "set FLASK_APP=flask_app\n",
    "flask run\n",
    "```\n",
    "The output should be something like below:\n",
    "```\n",
    " * Serving Flask app \"flask_app\"\n",
    " * Environment: production\n",
    "   WARNING: This is a development server. Do not use it in a production deployment.\n",
    "   Use a production WSGI server instead.\n",
    " * Debug mode: off\n",
    " * Running on http://127.0.0.1:5000/ (Press CTRL+C to quit)\n",
    "```\n",
    "Now you can browse the web page of `http://127.0.0.1:5000/` and you should see a blank page."
   ]
  },
  {
   "cell_type": "markdown",
   "id": "97992ad9",
   "metadata": {},
   "source": [
    "## Base HTML template\n",
    "We will create a HTML template `base.html` such that each HTML web page can inherit without repetition of the code.\n",
    "Type the following code at `base.html`.\n",
    "\n",
    "---\n",
    "\n",
    "```html\n",
    "<!doctype html>\n",
    "<html lang=\"en\">\n",
    "  <head>\n",
    "    <!-- Required meta tags -->\n",
    "    <meta charset=\"utf-8\">\n",
    "    <meta name=\"viewport\" content=\"width=device-width, initial-scale=1\">\n",
    "    <!-- Bootstrap CSS -->\n",
    "    <link rel=\"stylesheet\" href=\"https://maxcdn.bootstrapcdn.com/bootstrap/4.0.0/css/bootstrap.min.css\" integrity=\"sha384-Gn5384xqQ1aoWXA+058RXPxPg6fy4IWvTNh0E263XmFcJlSAwiGgFAW/dAiS6JXm\" crossorigin=\"anonymous\">\n",
    "\n",
    "    <title> {% block title %} {% endblock %} </title>\n",
    "\n",
    "  </head>\n",
    "  <body>\n",
    "  <!-- Bootstrap Navigation Bar -->\n",
    "  <nav class=\"navbar navbar-expand-lg navbar-dark bg-primary\">\n",
    "        <span class=\"navbar-brand\">Simple Message Board</span>\n",
    "        <button class=\"navbar-toggler\" type=\"button\" data-toggle=\"collapse\" data-target=\"#navbarNavDropdown\" aria-controls=\"navbarNavDropdown\" aria-expanded=\"false\" aria-label=\"Toggle navigation\">\n",
    "            <span class=\"navbar-toggler-icon\"></span>\n",
    "        </button>\n",
    "        <div class=\"collapse navbar-collapse\" id=\"navbarNavDropdown\">\n",
    "            <ul class=\"navbar-nav ml-auto\">\n",
    "                <li class=\"nav-item active\">\n",
    "                    <a class=\"nav-link\" href=\"/create_new_post\">New Post</a>\n",
    "                </li>\n",
    "            </ul>\n",
    "        </div>\n",
    "    </nav>\n",
    "\n",
    "    <div class=\"container\">\n",
    "        {% block content %} {% endblock %}\n",
    "    </div>\n",
    "\n",
    "    <!-- jQuery first, then Popper.js, then Bootstrap JS -->\n",
    "    <script src=\"https://code.jquery.com/jquery-3.2.1.slim.min.js\" integrity=\"sha384-KJ3o2DKtIkvYIK3UENzmM7KCkRr/rE9/Qpg6aAZGJwFDMVNA/GpGFF93hXpG5KkN\" crossorigin=\"anonymous\"></script>\n",
    "    <script src=\"https://cdnjs.cloudflare.com/ajax/libs/popper.js/1.12.9/umd/popper.min.js\" integrity=\"sha384-ApNbgh9B+Y1QKtv3Rn7W3mgPxhU9K/ScQsAP7hUibX39j7fakFPskvXusvfa0b4Q\" crossorigin=\"anonymous\"></script>\n",
    "    <script src=\"https://maxcdn.bootstrapcdn.com/bootstrap/4.0.0/js/bootstrap.min.js\" integrity=\"sha384-JZR6Spejh4U02d8jOt6vLEHfe/JQGiRRSQQxSfFWpi1MquVdAyjUar5+76PVCmYl\" crossorigin=\"anonymous\"></script>\n",
    "  </body>\n",
    "</html>\n",
    "```\n",
    "\n",
    "---\n",
    "\n",
    "### Bootstrap \n",
    "Bootstrap is utilized for better performance with different device. You can learn more [here](https://getbootstrap.com/docs/5.0/getting-started/introduction/).\n",
    "### Jinja\n",
    "`{% block title %} {% endblock %}`\n",
    "It is the delimiters of [Jinja](https://jinja.palletsprojects.com/en/3.0.x/templates/). We will use these to interit the code later.\n",
    "\n",
    ">There are a few kinds of delimiters. The default Jinja delimiters are configured as follows:\n",
    "<br>{% ... %} for Statements\n",
    "<br>{{ ... }} for Expressions to print to the template output\n",
    "<br>{# ... #} for Comments not included in the template output\n",
    "\n",
    "\n"
   ]
  }
 ],
 "metadata": {
  "kernelspec": {
   "display_name": "Python 3",
   "language": "python",
   "name": "python3"
  },
  "language_info": {
   "codemirror_mode": {
    "name": "ipython",
    "version": 3
   },
   "file_extension": ".py",
   "mimetype": "text/x-python",
   "name": "python",
   "nbconvert_exporter": "python",
   "pygments_lexer": "ipython3",
   "version": "3.8.8"
  }
 },
 "nbformat": 4,
 "nbformat_minor": 5
}
